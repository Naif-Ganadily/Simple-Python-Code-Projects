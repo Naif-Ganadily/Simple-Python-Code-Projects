{
  "nbformat": 4,
  "nbformat_minor": 0,
  "metadata": {
    "colab": {
      "name": "Python Projects.ipynb",
      "provenance": [],
      "authorship_tag": "ABX9TyMxtrutSoaszIapG5P0wCNL",
      "include_colab_link": true
    },
    "kernelspec": {
      "name": "python3",
      "display_name": "Python 3"
    },
    "language_info": {
      "name": "python"
    }
  },
  "cells": [
    {
      "cell_type": "markdown",
      "metadata": {
        "id": "view-in-github",
        "colab_type": "text"
      },
      "source": [
        "<a href=\"https://colab.research.google.com/github/Naif-Ganadily/Simple-Python-Code-Projects/blob/main/Small_Python_Projects.ipynb\" target=\"_parent\"><img src=\"https://colab.research.google.com/assets/colab-badge.svg\" alt=\"Open In Colab\"/></a>"
      ]
    },
    {
      "cell_type": "markdown",
      "source": [
        "# Small Python Projects to Showcase my Foundational Knowledge of Python"
      ],
      "metadata": {
        "id": "VrSDGJ2avBRM"
      }
    },
    {
      "cell_type": "markdown",
      "source": [
        "### Location Data \n"
      ],
      "metadata": {
        "id": "Mzm_cY4uv7kl"
      }
    },
    {
      "cell_type": "code",
      "source": [
        "country = \"USA\"\n",
        "state = \"Oregon\"\n",
        "city = \"Westlinn\"\n",
        "\n"
      ],
      "metadata": {
        "id": "_KL986_ewovP"
      },
      "execution_count": null,
      "outputs": []
    },
    {
      "cell_type": "markdown",
      "source": [
        "### Kilometer Converter"
      ],
      "metadata": {
        "id": "hbwUfdyXwE1M"
      }
    },
    {
      "cell_type": "code",
      "source": [
        ""
      ],
      "metadata": {
        "id": "QNf0AJCNwpS7"
      },
      "execution_count": null,
      "outputs": []
    },
    {
      "cell_type": "markdown",
      "source": [
        "### Smart Light Switch\n"
      ],
      "metadata": {
        "id": "ZpUz1nXFwE34"
      }
    },
    {
      "cell_type": "code",
      "source": [
        ""
      ],
      "metadata": {
        "id": "24w5MIrXwpr5"
      },
      "execution_count": null,
      "outputs": []
    },
    {
      "cell_type": "markdown",
      "source": [
        "### Track Sales Data\n",
        "\n"
      ],
      "metadata": {
        "id": "nuxQ_EspwE6n"
      }
    },
    {
      "cell_type": "code",
      "source": [
        ""
      ],
      "metadata": {
        "id": "ER-8hIUYwqGM"
      },
      "execution_count": null,
      "outputs": []
    },
    {
      "cell_type": "markdown",
      "source": [
        "### Measure Heart Rate Data"
      ],
      "metadata": {
        "id": "Sh0bDqOUwE84"
      }
    },
    {
      "cell_type": "markdown",
      "source": [
        "### Survey Data Insights"
      ],
      "metadata": {
        "id": "ABe5oDonwFBS"
      }
    },
    {
      "cell_type": "markdown",
      "source": [
        "### Comparing Dataset Entries"
      ],
      "metadata": {
        "id": "9oPAYEYgwbXH"
      }
    }
  ]
}